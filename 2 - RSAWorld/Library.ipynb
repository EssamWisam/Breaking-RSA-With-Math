{
 "cells": [
  {
   "cell_type": "code",
   "execution_count": null,
   "metadata": {},
   "outputs": [],
   "source": [
    "from math import sqrt, log, floor\n",
    "import random"
   ]
  },
  {
   "cell_type": "markdown",
   "metadata": {},
   "source": [
    "### GCD Computation"
   ]
  },
  {
   "cell_type": "code",
   "execution_count": 13,
   "metadata": {},
   "outputs": [],
   "source": [
    "def GCD(a, b):\n",
    "   return a if b == 0 else  GCD(b, a % b)\n",
    "\n",
    "def ExtendedEuclid(a, b):                    \n",
    "   if b == 0:\n",
    "      return (1, 0)\n",
    "   (x, y) = ExtendedEuclid(b, a % b)\n",
    "   k = a // b\n",
    "   return (y, x - k * y)                  # Will need to derive or re-implement\n",
    "   "
   ]
  },
  {
   "cell_type": "markdown",
   "metadata": {},
   "source": [
    "### Primes related algorithms"
   ]
  },
  {
   "cell_type": "code",
   "execution_count": null,
   "metadata": {},
   "outputs": [],
   "source": [
    "def IsPrime(p):\n",
    "   i = 2\n",
    "   if p == 1:\n",
    "      return False\n",
    "   while i <= sqrt(p):\n",
    "      if p % i==0:\n",
    "         return False\n",
    "      i += 1\n",
    "   return True\n",
    "\n",
    "def GenRandPrime(n): #TODO: reimplement\n",
    "   #generate random prime less than n\n",
    "   primes = [2, 3, 5, 7, 11, 13, 17, 19, 23, 29, 31, 37, 41, 43, 47, 53, 59, \n",
    "            61, 67, 71, 73, 79, 83, 89, 97, 101, 103, 107, 109, 113, 127, 131, 137, 139, \n",
    "            149, 151, 157, 163, 167, 173, 179, 181, 191, 193, 197, 199, 211, 223, 227, \n",
    "            229, 233, 239, 241, 251, 257, 263, 269, 271, 277, 281, 283, 293, 307, 311, \n",
    "            313, 317, 331, 337, 347, 349, 353, 359, 367, 373, 379, 383, 389, 397, 401, \n",
    "            409, 419, 421, 431, 433, 439, 443, 449, 457, 461, 463, 467, 479, 487, 491, \n",
    "            499, 503, 509, 521, 523, 541, 547, 557, 563, 569, 571, 577, 587, 593, 599, \n",
    "            601, 607, 613, 617, 619, 631, 641, 643, 647, 653, 659, 661, 673, 677, 683, \n",
    "            691, 701, 709, 719, 727, 733, 739, 743, 751, 757, 761, 769, 773, 787, 797, \n",
    "            809, 811, 821, 823, 827, 829, 839, 853, 857, 859, 863, 877, 881, 883, 887, \n",
    "            907, 911, 919, 929, 937, 941, 947, 953, 967, 971, 977, 983, 991, 997]\n",
    "   p = primes[random.randint(0, len(primes) - 1)]\n",
    "   while p >= n:\n",
    "      p = primes[random.randint(0, len(primes) - 1)]\n",
    "   return p"
   ]
  },
  {
   "cell_type": "markdown",
   "metadata": {},
   "source": [
    "### Modulo Operations"
   ]
  },
  {
   "cell_type": "code",
   "execution_count": 14,
   "metadata": {},
   "outputs": [],
   "source": [
    "def ModExp(a, n, mod):                    # Will need to derive or re-implement\n",
    "   if n == 0:     return 1 % mod\n",
    "   elif n == 1:   return a % mod\n",
    "   else:\n",
    "      b = ModExp(a, n // 2, mod)\n",
    "      b = b * b % mod\n",
    "      if n % 2 == 0:\n",
    "         return b\n",
    "      else:\n",
    "         return b * a % mod\n",
    "\n",
    "def ModInv(a, n):\n",
    "   (b, x) = ExtendedEuclid(a, n)\n",
    "   if b < 0:\n",
    "      b = (b % n + n) % n # we don't want -ve integers\n",
    "   return b"
   ]
  },
  {
   "cell_type": "markdown",
   "metadata": {},
   "source": [
    "### Text to Numbers & Vice Versa"
   ]
  },
  {
   "cell_type": "code",
   "execution_count": 15,
   "metadata": {},
   "outputs": [],
   "source": [
    "def ConvertToInt(message_str):                     # Will need to reimplement\n",
    "   res = 0\n",
    "   for i in range(len(message_str)):\n",
    "      res = res * 256 + ord(message_str[i])\n",
    "   return res\n",
    "\n",
    "def ConvertToStr(n):                               # Will need to reimplement\n",
    "   res = \"\"\n",
    "   while n > 0:\n",
    "      res += chr(n % 256)\n",
    "      n //= 256\n",
    "   return res[::-1]"
   ]
  },
  {
   "cell_type": "markdown",
   "metadata": {},
   "source": [
    "### RSA Algorithm"
   ]
  },
  {
   "cell_type": "code",
   "execution_count": 16,
   "metadata": {},
   "outputs": [],
   "source": [
    "def Encrypt(m, n, e):\n",
    "   m = ConvertToInt(m)\n",
    "   c = ModExp(m, e, n)\n",
    "   return ConvertToStr(c)\n",
    "\n",
    "def Decrypt(c, n, d):\n",
    "   c = ConvertToInt(c)\n",
    "   m = ModExp(c, d, n)\n",
    "   return ConvertToStr(m)"
   ]
  }
 ],
 "metadata": {
  "interpreter": {
   "hash": "40d3a090f54c6569ab1632332b64b2c03c39dcf918b08424e98f38b5ae0af88f"
  },
  "kernelspec": {
   "display_name": "Python 3.8.8 ('base')",
   "language": "python",
   "name": "python3"
  },
  "language_info": {
   "codemirror_mode": {
    "name": "ipython",
    "version": 3
   },
   "file_extension": ".py",
   "mimetype": "text/x-python",
   "name": "python",
   "nbconvert_exporter": "python",
   "pygments_lexer": "ipython3",
   "version": "3.8.8"
  },
  "orig_nbformat": 4
 },
 "nbformat": 4,
 "nbformat_minor": 2
}
