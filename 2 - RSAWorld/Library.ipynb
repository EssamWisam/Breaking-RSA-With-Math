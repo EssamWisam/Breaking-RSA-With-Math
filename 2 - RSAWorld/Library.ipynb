{
 "cells": [
  {
   "cell_type": "code",
   "execution_count": 2,
   "metadata": {},
   "outputs": [],
   "source": [
    "from math import sqrt, log, floor, ceil\n",
    "import random"
   ]
  },
  {
   "cell_type": "markdown",
   "metadata": {},
   "source": [
    "### GCD Computation"
   ]
  },
  {
   "cell_type": "code",
   "execution_count": 3,
   "metadata": {},
   "outputs": [],
   "source": [
    "def GCD(a, b):\n",
    "   return a if b == 0 else  GCD(b, a % b)\n",
    "\n",
    "def ExtendedEuclid(a, b):                    \n",
    "   if b == 0:\n",
    "      return (1, 0)\n",
    "   (x, y) = ExtendedEuclid(b, a % b)\n",
    "   k = a // b\n",
    "   return (y, x - k * y)                  # Will need to derive or re-implement"
   ]
  },
  {
   "cell_type": "markdown",
   "metadata": {},
   "source": [
    "### Primes related algorithms"
   ]
  },
  {
   "cell_type": "code",
   "execution_count": 4,
   "metadata": {},
   "outputs": [],
   "source": [
    "def IsPrime(p):\n",
    "   if p < 100000:\n",
    "      i = 2\n",
    "      if p == 1:\n",
    "         return False\n",
    "      while i <= sqrt(p):\n",
    "         if p % i==0:\n",
    "            return False\n",
    "         i += 1\n",
    "      return True\n",
    "   else:\n",
    "      return FermatTest(p, 100)\n",
    "\n",
    "def GenRandPrime(n):\n",
    "   bits = ''\n",
    "   for i in range(n-2):\n",
    "      bits += str(random.randint(0,1))\n",
    "   bits = '1' + bits + '1'\n",
    "   p = int(bits, 2)\n",
    "   while not IsPrime(p):\n",
    "      p += 2\n",
    "   return p"
   ]
  },
  {
   "cell_type": "markdown",
   "metadata": {},
   "source": [
    "### Modulo Operations"
   ]
  },
  {
   "cell_type": "code",
   "execution_count": 5,
   "metadata": {},
   "outputs": [],
   "source": [
    "def ModExp(a, e, n):             # f = a^e mod n\n",
    "   f=1\n",
    "   for b in bin(e)[2:]:\n",
    "      f = (f*f) % n\n",
    "      if b == '1':   f = (f*a) % n\n",
    "   return f\n",
    "\n",
    "\n",
    "def ModInv(a, n):\n",
    "   (b, x) = ExtendedEuclid(a, n)\n",
    "   if b < 0:\n",
    "      b = (b % n + n) % n           # we don't want -ve integers\n",
    "   return b\n",
    "\n",
    "def FermatTest(n, k):\n",
    "   if n == 2:\n",
    "      return True\n",
    "   if n % 2 == 0:\n",
    "      return False\n",
    "   for i in range(k):\n",
    "      a = random.randint(2, n - 1)\n",
    "      if ModExp(a, n - 1, n) != 1:\n",
    "         return False\n",
    "   return True"
   ]
  },
  {
   "cell_type": "markdown",
   "metadata": {},
   "source": [
    "### Text to Numbers & Vice Versa"
   ]
  },
  {
   "cell_type": "code",
   "execution_count": 6,
   "metadata": {},
   "outputs": [],
   "source": [
    "def Str2Num(str):                     \n",
    "   num = 0\n",
    "   for i in range(len(str)):\n",
    "      num = int(num << 8) + ord(str[i])\n",
    "   return num\n",
    "\n",
    "def Num2Str(num):\n",
    "   str = \"\"\n",
    "   # convert to binary\n",
    "   num = bin(num)[2:]\n",
    "   # pad with zeros until length is a multiple of 8\n",
    "   num = num.zfill(8*ceil(len(num)/8))\n",
    "   # convert every 8 bits to a character\n",
    "   for i in range(len(num) // 8):\n",
    "      str += chr(int(num[i * 8: (i + 1) * 8], 2))\n",
    "   return str"
   ]
  },
  {
   "cell_type": "markdown",
   "metadata": {},
   "source": [
    "### RSA Algorithm"
   ]
  },
  {
   "cell_type": "code",
   "execution_count": 7,
   "metadata": {},
   "outputs": [],
   "source": [
    "def Encrypt(m, n, e):\n",
    "   m = Str2Num(m)\n",
    "   c = ModExp(m, e, n)\n",
    "   return Num2Str(c)\n",
    "\n",
    "def Decrypt(c, n, d):\n",
    "   c = Str2Num(c)\n",
    "   m = ModExp(c, d, n)\n",
    "   return Num2Str(m)"
   ]
  }
 ],
 "metadata": {
  "interpreter": {
   "hash": "4f1daba52a977a9ca261d4e047034e1359a47d2ceb499fa4b8c2080bb02e3bd2"
  },
  "kernelspec": {
   "display_name": "Python 3.8.8 ('base')",
   "language": "python",
   "name": "python3"
  },
  "language_info": {
   "codemirror_mode": {
    "name": "ipython",
    "version": 3
   },
   "file_extension": ".py",
   "mimetype": "text/x-python",
   "name": "python",
   "nbconvert_exporter": "python",
   "pygments_lexer": "ipython3",
   "version": "3.8.8"
  },
  "orig_nbformat": 4
 },
 "nbformat": 4,
 "nbformat_minor": 2
}
