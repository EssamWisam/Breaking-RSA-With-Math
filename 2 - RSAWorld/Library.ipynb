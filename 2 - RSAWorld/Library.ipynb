{
 "cells": [
  {
   "cell_type": "code",
   "execution_count": null,
   "metadata": {},
   "outputs": [],
   "source": [
    "from math import sqrt, log, floor\n",
    "import random"
   ]
  },
  {
   "cell_type": "markdown",
   "metadata": {},
   "source": [
    "### GCD Computation"
   ]
  },
  {
   "cell_type": "code",
   "execution_count": 13,
   "metadata": {},
   "outputs": [],
   "source": [
    "def GCD(a, b):\n",
    "   return a if b == 0 else  GCD(b, a % b)\n",
    "\n",
    "def ExtendedEuclid(a, b):                    \n",
    "   if b == 0:\n",
    "      return (1, 0)\n",
    "   (x, y) = ExtendedEuclid(b, a % b)\n",
    "   k = a // b\n",
    "   return (y, x - k * y)                  # Will need to derive or re-implement"
   ]
  },
  {
   "cell_type": "markdown",
   "metadata": {},
   "source": [
    "### Primes related algorithms"
   ]
  },
  {
   "cell_type": "code",
   "execution_count": null,
   "metadata": {},
   "outputs": [],
   "source": [
    "def IsPrime(p):\n",
    "   if p < 100000:\n",
    "      i = 2\n",
    "      if p == 1:\n",
    "         return False\n",
    "      while i <= sqrt(p):\n",
    "         if p % i==0:\n",
    "            return False\n",
    "         i += 1\n",
    "      return True\n",
    "   else:\n",
    "      return FermatTest(p, 100)\n",
    "\n",
    "def GenRandPrime(n):\n",
    "   bits = ''\n",
    "   for i in range(n-2):\n",
    "      bits += str(random.randint(0,1))\n",
    "   bits = '1' + bits + '1'\n",
    "   p = int(bits, 2)\n",
    "   while not IsPrime(p):\n",
    "      p += 2\n",
    "   return p"
   ]
  },
  {
   "cell_type": "markdown",
   "metadata": {},
   "source": [
    "### Modulo Operations"
   ]
  },
  {
   "cell_type": "code",
   "execution_count": 14,
   "metadata": {},
   "outputs": [],
   "source": [
    "def ModExp(a, n, mod):                    # Will need to derive or re-implement\n",
    "   if n == 0:     return 1 % mod\n",
    "   elif n == 1:   return a % mod\n",
    "   else:\n",
    "      b = ModExp(a, n // 2, mod)\n",
    "      b = b * b % mod\n",
    "      if n % 2 == 0:\n",
    "         return b\n",
    "      else:\n",
    "         return b * a % mod\n",
    "\n",
    "def ModInv(a, n):\n",
    "   (b, x) = ExtendedEuclid(a, n)\n",
    "   if b < 0:\n",
    "      b = (b % n + n) % n # we don't want -ve integers\n",
    "   return b\n",
    "\n",
    "def FermatTest(n, k):\n",
    "   if n == 2:\n",
    "      return True\n",
    "   if n % 2 == 0:\n",
    "      return False\n",
    "   for i in range(k):\n",
    "      a = random.randint(2, n - 1)\n",
    "      if ModExp(a, n - 1, n) != 1:\n",
    "         return False\n",
    "   return True"
   ]
  },
  {
   "cell_type": "markdown",
   "metadata": {},
   "source": [
    "### Text to Numbers & Vice Versa"
   ]
  },
  {
   "cell_type": "code",
   "execution_count": 15,
   "metadata": {},
   "outputs": [],
   "source": [
    "def ConvertToInt(message_str):                     # Will need to reimplement\n",
    "   res = 0\n",
    "   for i in range(len(message_str)):\n",
    "      res = res * 256 + ord(message_str[i])\n",
    "   return res\n",
    "\n",
    "def ConvertToStr(n):                               # Will need to reimplement\n",
    "   res = \"\"\n",
    "   while n > 0:\n",
    "      res += chr(n % 256)\n",
    "      n //= 256\n",
    "   return res[::-1]"
   ]
  },
  {
   "cell_type": "markdown",
   "metadata": {},
   "source": [
    "### RSA Algorithm"
   ]
  },
  {
   "cell_type": "code",
   "execution_count": 16,
   "metadata": {},
   "outputs": [],
   "source": [
    "def Encrypt(m, n, e):\n",
    "   m = ConvertToInt(m)\n",
    "   c = ModExp(m, e, n)\n",
    "   return ConvertToStr(c)\n",
    "\n",
    "def Decrypt(c, n, d):\n",
    "   c = ConvertToInt(c)\n",
    "   m = ModExp(c, d, n)\n",
    "   return ConvertToStr(m)"
   ]
  }
 ],
 "metadata": {
  "interpreter": {
   "hash": "502381dabf816db17cdb662e7cdab6a346fcab7184526526190b0739e6bd3bad"
  },
  "kernelspec": {
   "display_name": "Python 3.8.8 ('base')",
   "language": "python",
   "name": "python3"
  },
  "language_info": {
   "codemirror_mode": {
    "name": "ipython",
    "version": 3
   },
   "file_extension": ".py",
   "mimetype": "text/x-python",
   "name": "python",
   "nbconvert_exporter": "python",
   "pygments_lexer": "ipython3",
   "version": "3.8.8"
  },
  "orig_nbformat": 4
 },
 "nbformat": 4,
 "nbformat_minor": 2
}
