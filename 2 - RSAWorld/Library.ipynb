{
 "cells": [
  {
   "cell_type": "code",
   "execution_count": 1,
   "metadata": {},
   "outputs": [],
   "source": [
    "from math import sqrt, log, floor\n",
    "import random"
   ]
  },
  {
   "cell_type": "markdown",
   "metadata": {},
   "source": [
    "### GCD Computation"
   ]
  },
  {
   "cell_type": "code",
   "execution_count": 2,
   "metadata": {},
   "outputs": [],
   "source": [
    "def GCD(a, b):\n",
    "   return a if b == 0 else  GCD(b, a % b)\n",
    "\n",
    "def ExtendedEuclid(a, b):                    \n",
    "   if b == 0:\n",
    "      return (1, 0)\n",
    "   (x, y) = ExtendedEuclid(b, a % b)\n",
    "   k = a // b\n",
    "   return (y, x - k * y)                  # Will need to derive or re-implement"
   ]
  },
  {
   "cell_type": "markdown",
   "metadata": {},
   "source": [
    "### Primes related algorithms"
   ]
  },
  {
   "cell_type": "code",
   "execution_count": 3,
   "metadata": {},
   "outputs": [],
   "source": [
    "def IsPrime(p):\n",
    "   if p < 100000:\n",
    "      i = 2\n",
    "      if p == 1:\n",
    "         return False\n",
    "      while i <= sqrt(p):\n",
    "         if p % i==0:\n",
    "            return False\n",
    "         i += 1\n",
    "      return True\n",
    "   else:\n",
    "      return FermatTest(p, 100)\n",
    "\n",
    "def GenRandPrime(n):\n",
    "   bits = ''\n",
    "   for i in range(n-2):\n",
    "      bits += str(random.randint(0,1))\n",
    "   bits = '1' + bits + '1'\n",
    "   p = int(bits, 2)\n",
    "   while not IsPrime(p):\n",
    "      p += 2\n",
    "   return p"
   ]
  },
  {
   "cell_type": "markdown",
   "metadata": {},
   "source": [
    "### Modulo Operations"
   ]
  },
  {
   "cell_type": "code",
   "execution_count": 4,
   "metadata": {},
   "outputs": [],
   "source": [
    "def ModExp(a, n, mod):                    # Will need to derive or re-implement\n",
    "   if n == 0:     return 1 % mod\n",
    "   elif n == 1:   return a % mod\n",
    "   else:\n",
    "      b = ModExp(a, n // 2, mod)\n",
    "      b = b * b % mod\n",
    "      if n % 2 == 0:\n",
    "         return b\n",
    "      else:\n",
    "         return b * a % mod\n",
    "\n",
    "def ModInv(a, n):\n",
    "   (b, x) = ExtendedEuclid(a, n)\n",
    "   if b < 0:\n",
    "      b = (b % n + n) % n # we don't want -ve integers\n",
    "   return b\n",
    "\n",
    "def FermatTest(n, k):\n",
    "   if n == 2:\n",
    "      return True\n",
    "   if n % 2 == 0:\n",
    "      return False\n",
    "   for i in range(k):\n",
    "      a = random.randint(2, n - 1)\n",
    "      if ModExp(a, n - 1, n) != 1:\n",
    "         return False\n",
    "   return True"
   ]
  },
  {
   "cell_type": "markdown",
   "metadata": {},
   "source": [
    "### Text to Numbers & Vice Versa"
   ]
  },
  {
   "cell_type": "code",
   "execution_count": 32,
   "metadata": {},
   "outputs": [],
   "source": [
    "def ConvertToInt(str):                     # TODO: change its name Essam\n",
    "   num = 0\n",
    "   for i in range(len(str)):\n",
    "      num = int(num << 8) + ord(str[i])\n",
    "   return num\n",
    "\n",
    "def ConvertToStr(num):                               # TODO: change its name Essam\n",
    "   str = \"\"\n",
    "   #convert to binary\n",
    "   num = bin(num)[2:]\n",
    "   #pad with zeros until length is a multiple of 8\n",
    "   num = num.zfill(8 * ((len(num) + 7) // 8))\n",
    "   #convert every 8 bits to a character\n",
    "   for i in range(len(num) // 8):\n",
    "      str += chr(int(num[i * 8 : (i + 1) * 8], 2))\n",
    "   return str"
   ]
  },
  {
   "cell_type": "markdown",
   "metadata": {},
   "source": [
    "### RSA Algorithm"
   ]
  },
  {
   "cell_type": "code",
   "execution_count": 6,
   "metadata": {},
   "outputs": [],
   "source": [
    "def Encrypt(m, n, e):\n",
    "   m = ConvertToInt(m)\n",
    "   c = ModExp(m, e, n)\n",
    "   return ConvertToStr(c)\n",
    "\n",
    "def Decrypt(c, n, d):\n",
    "   c = ConvertToInt(c)\n",
    "   m = ModExp(c, d, n)\n",
    "   return ConvertToStr(m)"
   ]
  },
  {
   "cell_type": "code",
   "execution_count": 7,
   "metadata": {},
   "outputs": [],
   "source": [
    "def sign_up(p, q, e):\n",
    "   BITSNUM=32\n",
    "   if p == '':\n",
    "      if e=='':\n",
    "         if q == '':\n",
    "            p = str(GenRandPrime(BITSNUM))\n",
    "         else:\n",
    "            p = str(GenRandPrime(int(log(int(q), 2)+1)))\n",
    "      else:\n",
    "         if int(e)%2 !=0:\n",
    "            if q == '':\n",
    "               p = str(GenRandPrime(BITSNUM))\n",
    "               while GCD(int(p)-1, int(e)) != 1:\n",
    "                  p = str(GenRandPrime(BITSNUM))\n",
    "            else:\n",
    "               p = str(GenRandPrime(int(log(int(q), 2)+1)))\n",
    "               while GCD(int(p)-1, int(e)) != 1:\n",
    "                  p = str(GenRandPrime(int(log(int(q), 2)+1)))\n",
    "\n",
    "   if q == '':\n",
    "      if e=='':\n",
    "         if p == '':\n",
    "            q = str(GenRandPrime(BITSNUM))\n",
    "         else:\n",
    "            q = str(GenRandPrime(int(log(int(p), 2)+1)))\n",
    "      else:\n",
    "         if int(e)%2 !=0:\n",
    "            if p == '':\n",
    "               q = str(GenRandPrime(BITSNUM))\n",
    "               while GCD(int(q)-1, int(e)) != 1:\n",
    "                  q = str(GenRandPrime(BITSNUM))\n",
    "            else:\n",
    "               q = str(GenRandPrime(int(log(int(p), 2)+1)))\n",
    "               while GCD(int(q)-1, int(e)) != 1:\n",
    "                  q = str(GenRandPrime(int(log(int(p), 2)+1)))\n",
    "\n",
    "\n",
    "   err_msg = ''\n",
    "   if not p.isdigit() and err_msg == '':\n",
    "      err_msg = 'p must be a number'\n",
    "   if not q.isdigit() and err_msg == '':\n",
    "      err_msg = 'q must be a number'\n",
    "\n",
    "   p = int(p)\n",
    "   q = int(q)\n",
    "   n = p*q\n",
    "   phi_n = (p - 1) * (q - 1)\n",
    "\n",
    "   if not IsPrime(p) and err_msg == '':\n",
    "      err_msg = 'p is not prime'\n",
    "   if not IsPrime(q) and err_msg == '':\n",
    "      err_msg = 'q is not prime'\n",
    "   if p == 2 and err_msg == '':\n",
    "      err_msg = 'p must be greater than 2'\n",
    "   if q == 2 and err_msg == '':\n",
    "      err_msg = 'q must be greater than 2'\n",
    "      \n",
    "   if e == '':\n",
    "      e = str(GenRandPrime(int(log(phi_n,2))))\n",
    "\n",
    "   if not e.isdigit() and err_msg == '':\n",
    "      err_msg = 'e must be a number'\n",
    "   e = int(e)\n",
    "   if e%2 == 0 and err_msg == '':\n",
    "      err_msg = 'e must be odd'\n",
    "   if e <= 1  and err_msg == '':\n",
    "      err_msg = 'e should be greater than 1'\n",
    "   if e >= phi_n and err_msg == '':\n",
    "      err_msg = 'e should be less than φ(n)'\n",
    "   if GCD(e, phi_n) != 1 and err_msg == '':\n",
    "      err_msg = 'e is not coprime with φ(n)'\n",
    "\n",
    "   #?That is isn't reqired but it is a good idea to check it.\n",
    "   #TODO:Should we leave it?\n",
    "   if p == q and err_msg == '':\n",
    "      err_msg = 'p and q are the same that is a bad idea'\n",
    "\n",
    "   d = ModInv(e, phi_n)\n",
    "   e_inv = d + n\n",
    "   return p, q, e, e_inv, n, phi_n, d, err_msg\n"
   ]
  },
  {
   "cell_type": "code",
   "execution_count": 18,
   "metadata": {},
   "outputs": [],
   "source": [
    "n=14974661349851995591, 9539852959329412939\n",
    "e=6453062772776331773, 5224816737511435613\n",
    "d=1709163902334856789, 1992112244880460109"
   ]
  },
  {
   "cell_type": "code",
   "execution_count": 9,
   "metadata": {},
   "outputs": [],
   "source": [
    "def encrypt(n, e, M):\n",
    "   err_msg=''\n",
    "   if M == '':\n",
    "      err_msg = 'Empty message'\n",
    "   if not isinstance(M, str):\n",
    "      err_msg = 'M must be a string'\n",
    "   \n",
    "   TruncationLen= floor(log(n ,256)) if floor(log(n ,256)) > 0 else 1\n",
    "   M = list(M)\n",
    "   M = [''.join(M[i:i+TruncationLen]) for i in range(0, len(M), TruncationLen)]\n",
    "   C = [Encrypt(m, n, e) for m in M]\n",
    "   return C, err_msg"
   ]
  },
  {
   "cell_type": "code",
   "execution_count": 10,
   "metadata": {},
   "outputs": [],
   "source": [
    "def decrypt(n, d, C):\n",
    "   err_msg = ''\n",
    "   if not isinstance(C, list):\n",
    "      C=[C]\n",
    "   for c in C:\n",
    "      if c == '':\n",
    "         err_msg = 'Empty message'\n",
    "   M = [Decrypt(c, n, d) for c in C]\n",
    "   M = ''.join(M)\n",
    "   return M, err_msg"
   ]
  },
  {
   "cell_type": "code",
   "execution_count": 19,
   "metadata": {},
   "outputs": [
    {
     "data": {
      "text/plain": [
       "('Hello World', '')"
      ]
     },
     "execution_count": 19,
     "metadata": {},
     "output_type": "execute_result"
    }
   ],
   "source": [
    "decrypt(n[1], d[1], encrypt(n[1], e[1], 'Hello World')[0])\n",
    "\n"
   ]
  },
  {
   "cell_type": "code",
   "execution_count": 23,
   "metadata": {},
   "outputs": [
    {
     "data": {
      "text/plain": [
       "[7, 11]"
      ]
     },
     "execution_count": 23,
     "metadata": {},
     "output_type": "execute_result"
    }
   ],
   "source": [
    "\n",
    "def factorize(n):\n",
    "   if (n % 2) == 0:\n",
    "      return [2] + factorize(n//2)\n",
    "     \n",
    "   \n",
    "   integer = 3\n",
    "   while integer <= (n**0.5):     \n",
    "      if n % integer == 0:      \n",
    "         return [integer] + factorize(n // integer)\n",
    "      else:\n",
    "         integer += 2                        # Since all primes are odd.\n",
    "   return [n]\n",
    "\n",
    "\n",
    "def mathematical_attack(PU):\n",
    "   factors = factorize(PU)\n",
    "   return \"NOT RSA\" if len(factors) > 2  else factors\n",
    "\n"
   ]
  }
 ],
 "metadata": {
  "interpreter": {
   "hash": "4f1daba52a977a9ca261d4e047034e1359a47d2ceb499fa4b8c2080bb02e3bd2"
  },
  "kernelspec": {
   "display_name": "Python 3.8.8 ('base')",
   "language": "python",
   "name": "python3"
  },
  "language_info": {
   "codemirror_mode": {
    "name": "ipython",
    "version": 3
   },
   "file_extension": ".py",
   "mimetype": "text/x-python",
   "name": "python",
   "nbconvert_exporter": "python",
   "pygments_lexer": "ipython3",
   "version": "3.8.8"
  },
  "orig_nbformat": 4
 },
 "nbformat": 4,
 "nbformat_minor": 2
}
