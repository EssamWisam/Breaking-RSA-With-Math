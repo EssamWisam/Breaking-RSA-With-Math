{
 "cells": [
  {
   "cell_type": "code",
   "execution_count": 7,
   "metadata": {},
   "outputs": [
    {
     "name": "stdout",
     "output_type": "stream",
     "text": [
      "Attack Successful, the M corresponding to C=1246509873498 is M=43\n"
     ]
    }
   ],
   "source": [
    "from ipynb.fs.full.Library import GCD, ModInv, ModExp, sign_up\n",
    "\n",
    "\n",
    "\n",
    "def Choose_Y(C, r, n, e):\n",
    "   assert GCD(r, n) == 1\n",
    "   Y = (C * (ModExp(r, e, n))) % n\n",
    "   return Y\n",
    "\n",
    "def Find_M(X, r, n):\n",
    "   r_inv = ModInv(r, n)\n",
    "   M = (r_inv * X) % n\n",
    "   return M\n",
    "\n",
    "\n",
    "def CCA(p, q, e, C, r, permission=True):\n",
    "   _, _, _, _, n, _, d, err_msg = sign_up(str(p), str(q), str(e))\n",
    "   if err_msg == '':\n",
    "      if GCD(r, n) != 1:\n",
    "         return \"Could not establish the attack as r does not have a unique inverse.\", -1\n",
    "      Y = Choose_Y(C, r, n, e)\n",
    "      if permission:\n",
    "         X =  ModExp(Y, d, n)\n",
    "         M = Find_M(X, r, n)\n",
    "         return \"\", M\n",
    "      else:\n",
    "         return \"Target denied signing.\", -2\n",
    "   else:\n",
    "      return err_msg, -3\n",
    "      \n",
    "\n",
    "C = 1246509873498\n",
    "r = 2\n",
    "msg, M = CCA(7, 11, 7, C, r)\n",
    "if msg=='':\n",
    "   print(f\"Attack Successful, the M corresponding to C={C} is M={M}\")\n",
    "else:\n",
    "   print(msg)"
   ]
  }
 ],
 "metadata": {
  "interpreter": {
   "hash": "40d3a090f54c6569ab1632332b64b2c03c39dcf918b08424e98f38b5ae0af88f"
  },
  "kernelspec": {
   "display_name": "Python 3.8.8 ('base')",
   "language": "python",
   "name": "python3"
  },
  "language_info": {
   "codemirror_mode": {
    "name": "ipython",
    "version": 3
   },
   "file_extension": ".py",
   "mimetype": "text/x-python",
   "name": "python",
   "nbconvert_exporter": "python",
   "pygments_lexer": "ipython3",
   "version": "3.8.8"
  },
  "orig_nbformat": 4
 },
 "nbformat": 4,
 "nbformat_minor": 2
}
