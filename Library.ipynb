{
 "cells": [
  {
   "cell_type": "markdown",
   "metadata": {},
   "source": [
    "### GCD Computation"
   ]
  },
  {
   "cell_type": "code",
   "execution_count": 13,
   "metadata": {},
   "outputs": [],
   "source": [
    "def GCD(a, b):\n",
    "   return a if b == 0 else  GCD(b, a % b)\n",
    "\n",
    "def ExtendedEuclid(a, b):                    \n",
    "   if b == 0:\n",
    "      return (1, 0)\n",
    "   (x, y) = ExtendedEuclid(b, a % b)\n",
    "   k = a // b\n",
    "   return (y, x - k * y)                  # Will need to derive or re-implement\n",
    "   "
   ]
  },
  {
   "cell_type": "markdown",
   "metadata": {},
   "source": [
    "### Modulo Operations"
   ]
  },
  {
   "cell_type": "code",
   "execution_count": 14,
   "metadata": {},
   "outputs": [],
   "source": [
    "def ModExp(a, n, mod):                    # Will need to derive or re-implement\n",
    "   if n == 0:     return 1 % mod\n",
    "   elif n == 1:   return a % mod\n",
    "   else:\n",
    "      b = ModExp(a, n // 2, mod)\n",
    "      b = b * b % mod\n",
    "      if n % 2 == 0:\n",
    "         return b\n",
    "      else:\n",
    "         return b * a % mod\n",
    "\n",
    "def ModInv(a, n):\n",
    "   (b, x) = ExtendedEuclid(a, n)\n",
    "   if b < 0:\n",
    "      b = (b % n + n) % n # we don't want -ve integers\n",
    "   return b\n",
    "\n",
    "\n",
    "# Need to implement a prime finder (e.g. Fermat)"
   ]
  },
  {
   "cell_type": "markdown",
   "metadata": {},
   "source": [
    "### Text to Numbers & Vice Versa"
   ]
  },
  {
   "cell_type": "code",
   "execution_count": 15,
   "metadata": {},
   "outputs": [],
   "source": [
    "def ConvertToInt(message_str):                     # Will need to reimplement\n",
    "   res = 0\n",
    "   for i in range(len(message_str)):\n",
    "      res = res * 256 + ord(message_str[i])\n",
    "   return res\n",
    "\n",
    "def ConvertToStr(n):                               # Will need to reimplement\n",
    "   res = \"\"\n",
    "   while n > 0:\n",
    "      res += chr(n % 256)\n",
    "      n //= 256\n",
    "   return res[::-1]"
   ]
  },
  {
   "cell_type": "markdown",
   "metadata": {},
   "source": [
    "### RSA Algorithm"
   ]
  },
  {
   "cell_type": "code",
   "execution_count": 16,
   "metadata": {},
   "outputs": [],
   "source": [
    "def Encrypt(m, n, e):\n",
    "   m = ConvertToInt(m)\n",
    "   assert m < n and GCD(m, n) == 1\n",
    "   c = ModExp(m, e, n)\n",
    "   return c\n",
    "\n",
    "def Decrypt(c, p, q, e):\n",
    "   φ = (p - 1) * (q - 1)\n",
    "   assert GCD(e, φ ) == 1\n",
    "   d = ModInv(e, φ)\n",
    "   m = ModExp(c, d, p * q)\n",
    "   return ConvertToStr(m)"
   ]
  }
 ],
 "metadata": {
  "interpreter": {
   "hash": "40d3a090f54c6569ab1632332b64b2c03c39dcf918b08424e98f38b5ae0af88f"
  },
  "kernelspec": {
   "display_name": "Python 3.8.8 ('base')",
   "language": "python",
   "name": "python3"
  },
  "language_info": {
   "codemirror_mode": {
    "name": "ipython",
    "version": 3
   },
   "file_extension": ".py",
   "mimetype": "text/x-python",
   "name": "python",
   "nbconvert_exporter": "python",
   "pygments_lexer": "ipython3",
   "version": "3.8.8"
  },
  "orig_nbformat": 4
 },
 "nbformat": 4,
 "nbformat_minor": 2
}
