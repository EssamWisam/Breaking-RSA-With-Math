{
 "cells": [
  {
   "cell_type": "code",
   "execution_count": 52,
   "metadata": {},
   "outputs": [
    {
     "data": {
      "image/png": "[encoded data removed]",
      "text/plain": [
       "<Figure size 600x400 with 1 Axes>"
      ]
     },
     "metadata": {
      "needs_background": "light"
     },
     "output_type": "display_data"
    }
   ],
   "source": [
    "import numpy as np\n",
    "import time\n",
    "import matplotlib.pyplot as plt\n",
    "\n",
    "def factorize(n):\n",
    "   if (n % 2) == 0:\n",
    "      return [2] + factorize(n//2)\n",
    "     \n",
    "   \n",
    "   integer = 3\n",
    "   while integer <= (n**0.5):     \n",
    "      if n % integer == 0:      \n",
    "         return [integer] + factorize(n // integer)\n",
    "      else:\n",
    "         integer += 2                        # Since all primes are odd.\n",
    "   return [n]\n",
    "\n",
    "\n",
    "def mathematical_attack(PU):\n",
    "   factors = factorize(PU)\n",
    "   return \"NOT RSA\" if len(factors) > 2  else factors\n",
    "\n",
    "\n",
    "PUs = np.load('./n.npy', allow_pickle=True)\n",
    "\n",
    "\n",
    "file_object = open('time.txt', 'a', buffering=1)\n",
    "file_object2 = open('ns.txt', 'a', buffering=1)\n",
    "if False:\n",
    "   for PU in PUs:\n",
    "      start = time.time()\n",
    "      factorize(PU)\n",
    "      end = time.time()\n",
    "      file_object.write(f'{end-start} \\n')\n",
    "      file_object2.write(f'{PU} \\n')\n",
    "\n",
    "\n",
    "\n",
    "file_object.close()\n",
    "\n",
    "\n",
    "times = []\n",
    "with open('time.txt') as infile:\n",
    "    lines = infile.readlines()\n",
    "    for line in lines:\n",
    "       times.append(float(line[:-2])/60)\n",
    "times = np.array(times)\n",
    "\n",
    "n_size = [2*i for i in range(len(PUs[0:34]))]\n",
    "plt.figure(dpi=100)\n",
    "plt.plot(n_size, times)\n",
    "plt.savefig('plot.png', bbox_inches='tight', pad_inches=0)\n",
    "\n",
    "\n",
    "\n"
   ]
  }
 ],
 "metadata": {
  "interpreter": {
   "hash": "40d3a090f54c6569ab1632332b64b2c03c39dcf918b08424e98f38b5ae0af88f"
  },
  "kernelspec": {
   "display_name": "Python 3.8.8 ('base')",
   "language": "python",
   "name": "python3"
  },
  "language_info": {
   "codemirror_mode": {
    "name": "ipython",
    "version": 3
   },
   "file_extension": ".py",
   "mimetype": "text/x-python",
   "name": "python",
   "nbconvert_exporter": "python",
   "pygments_lexer": "ipython3",
   "version": "3.8.8"
  },
  "orig_nbformat": 4
 },
 "nbformat": 4,
 "nbformat_minor": 2
}
